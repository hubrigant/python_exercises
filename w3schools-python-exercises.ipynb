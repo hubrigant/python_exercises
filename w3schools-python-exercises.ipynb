{
 "cells": [
  {
   "cell_type": "markdown",
   "metadata": {},
   "source": [
    "# Question 1\n",
    "Write a Python program to print the following string in a specific format (see the output).\n",
    "Sample String : \"Twinkle, twinkle, little star, How I wonder what you are! Up above the world so high, Like a diamond in the sky. Twinkle, twinkle, little star, How I wonder what you are\" Output:\n",
    "\n",
    "    Twinkle, twinkle, little star,  \n",
    "        How I wonder what you are!  \n",
    "            Up above the world so high,  \n",
    "            Like a diamond in the sky.  \n",
    "    Twinkle, twinkle, little star,  \n",
    "        How I wonder what you are  "
   ]
  },
  {
   "cell_type": "markdown",
   "metadata": {},
   "source": [
    "## Answers\n",
    "## Method 1\n",
    "In this method, which I view as essentially cheating, the text is pre-formatted and returned verbatim for printing."
   ]
  },
  {
   "cell_type": "code",
   "execution_count": 1,
   "metadata": {},
   "outputs": [],
   "source": [
    "def q1m1(input_string: str):\n",
    "    return input_string"
   ]
  },
  {
   "cell_type": "code",
   "execution_count": 4,
   "metadata": {},
   "outputs": [
    {
     "name": "stdout",
     "output_type": "stream",
     "text": [
      "Twinkle, twinkle, little star,\n",
      "\tHow I wonder what you are!\n",
      "\t\tUp above the world so high,\n",
      "\t\tLike a diamond in the sky.\n",
      "Twinkle, twinkle, little star,\n",
      "\tHow I wonder what you are\n",
      "        \n"
     ]
    }
   ],
   "source": [
    "starting_string1 = \"\"\"Twinkle, twinkle, little star,\n",
    "\tHow I wonder what you are!\n",
    "\t\tUp above the world so high,\n",
    "\t\tLike a diamond in the sky.\n",
    "Twinkle, twinkle, little star,\n",
    "\tHow I wonder what you are\n",
    "        \"\"\"\n",
    "print(q1m1(starting_string1))"
   ]
  },
  {
   "cell_type": "markdown",
   "metadata": {},
   "source": [
    "## Method 2\n",
    "This method is only *slightly* less cheaty than method 1. Instead of a single, preformatted string, the method is passed a list containing pre-formatted strings of each line."
   ]
  },
  {
   "cell_type": "code",
   "execution_count": 5,
   "metadata": {},
   "outputs": [],
   "source": [
    "def q1m2(input_list):\n",
    "    output_string: str = \"\"\n",
    "    for line in input_list:\n",
    "        output_string += line\n",
    "    return output_string"
   ]
  },
  {
   "cell_type": "code",
   "execution_count": 6,
   "metadata": {},
   "outputs": [
    {
     "name": "stdout",
     "output_type": "stream",
     "text": [
      "Twinkle, twinkle, little star,\n",
      "\tHow I wonder what you are!\n",
      "\t\tUp above the world so high,\n",
      "\t\tLike a diamond in the sky.\n",
      "Twinkle, twinkle, little star,\n",
      "\tHow I wonder what you are!\n",
      "\n"
     ]
    }
   ],
   "source": [
    "starting_list = (\n",
    "    \"Twinkle, twinkle, little star,\\n\",\n",
    "    \"\\tHow I wonder what you are!\\n\",\n",
    "    \"\\t\\tUp above the world so high,\\n\",\n",
    "    \"\\t\\tLike a diamond in the sky.\\n\",\n",
    "    \"Twinkle, twinkle, little star,\\n\",\n",
    "    \"\\tHow I wonder what you are!\\n\"\n",
    "    )\n",
    "\n",
    "print(q1m2(starting_list))"
   ]
  },
  {
   "cell_type": "markdown",
   "metadata": {},
   "source": [
    "## Method 3\n",
    "This method is passed a string again, but the lines are not pre-formatted. Instead, the q1m3() function determines how far to indent each line based on the initial character of the line's string."
   ]
  },
  {
   "cell_type": "code",
   "execution_count": 7,
   "metadata": {},
   "outputs": [],
   "source": [
    "def q1m3(input_list):\n",
    "    output_leader = \"\\t\"\n",
    "    output_string = str()\n",
    "    for line in input_list:\n",
    "        if line[0] is \"H\":\n",
    "            output_string += output_leader + line + \"\\n\"\n",
    "        elif line[0] is \"U\" or line[0] is \"L\":\n",
    "            output_string += output_leader * 2 + line + \"\\n\"\n",
    "        else:\n",
    "            output_string += line + \"\\n\"\n",
    "    return output_string"
   ]
  },
  {
   "cell_type": "code",
   "execution_count": 8,
   "metadata": {},
   "outputs": [
    {
     "name": "stdout",
     "output_type": "stream",
     "text": [
      "Twinkle, twinkle, little star,\n",
      "\tHow I wonder what you are!\n",
      "\t\tUp above the world so high,\n",
      "\t\tLike a diamond in the sky.\n",
      "Twinkle, twinkle, little star,\n",
      "\tHow I wonder what you are!\n",
      "\n"
     ]
    }
   ],
   "source": [
    "starting_list = (\n",
    "    \"Twinkle, twinkle, little star,\",\n",
    "    \"How I wonder what you are!\",\n",
    "    \"Up above the world so high,\",\n",
    "    \"Like a diamond in the sky.\",\n",
    "    \"Twinkle, twinkle, little star,\",\n",
    "    \"How I wonder what you are!\"\n",
    ")\n",
    "\n",
    "print(q1m3(starting_list))"
   ]
  },
  {
   "cell_type": "markdown",
   "metadata": {},
   "source": [
    "## Method 4\n",
    "This method actually answers the explicit text of the question. Given the stated input string, the method inserts newlines and tabs in the appropriate locations."
   ]
  },
  {
   "cell_type": "code",
   "execution_count": 28,
   "metadata": {},
   "outputs": [],
   "source": [
    "def q1m4(input_string: str):\n",
    "    input_list = input_string.split(\" \")\n",
    "    split_string = \" \".join(input_list)\n",
    "    first_replace = split_string.replace(\" H\", \"\\n\\tH\")\n",
    "    second_replace = first_replace.replace(\" U\", \"\\n\\t\\tU\")\n",
    "    output_string = second_replace.replace(\" T\", \"\\n\\t\\tT\")\n",
    "    return output_string"
   ]
  },
  {
   "cell_type": "code",
   "execution_count": 31,
   "metadata": {},
   "outputs": [
    {
     "name": "stdout",
     "output_type": "stream",
     "text": [
      "Twinkle, twinkle, little star,\n",
      "\tHow I wonder what you are!\n",
      "\t\tUp above the world so high, Like a diamond in the sky.\n",
      "\t\tTwinkle, twinkle, little star,\n",
      "\tHow I wonder what you are.\n"
     ]
    }
   ],
   "source": [
    "starting_string = \"Twinkle, twinkle, little star, How I wonder what you are! Up above the world so high, Like a diamond in the sky. Twinkle, twinkle, little star, How I wonder what you are.\"\n",
    "print(q1m4(starting_string))\n",
    "\n",
    "# for word in resulting_list:\n",
    "#     print(\"{}: {}\".format(resulting_list.index(word), word))"
   ]
  },
  {
   "cell_type": "markdown",
   "metadata": {},
   "source": [
    "# Question 2\n",
    "Write a Python program to get the Python version you are using.\n",
    "\n",
    "A string containing the version number of the Python interpreter plus additional information on the build number and compiler used. This string is displayed when the interactive interpreter is started.\n",
    "\n",
    "## Version info:\n",
    "\n",
    "A tuple containing the five components of the version number: major, minor, micro, releaselevel, and serial. All values except releaselevel are integers; the release level is 'alpha', 'beta', 'candidate', or 'final'. The version_info value corresponding to the Python version 2.0 is (2, 0, 0, 'final', 0). The components can also be accessed by name, so sys.version_info[0] is equivalent to sys.version_info.major and so on.\n",
    "\n",
    "**Note:** 'sys' module provides access to some variables used or maintained by the interpreter and to functions that interact strongly with the interpreter."
   ]
  },
  {
   "cell_type": "code",
   "execution_count": 33,
   "metadata": {},
   "outputs": [
    {
     "name": "stdout",
     "output_type": "stream",
     "text": [
      "3.7.6 (default, Jan  8 2020, 19:59:22) \n",
      "[GCC 7.3.0]\n"
     ]
    }
   ],
   "source": [
    "import sys\n",
    "\n",
    "print(sys.version)"
   ]
  },
  {
   "cell_type": "code",
   "execution_count": null,
   "metadata": {},
   "outputs": [],
   "source": []
  }
 ],
 "metadata": {
  "kernelspec": {
   "display_name": "Python 3",
   "language": "python",
   "name": "python3"
  },
  "language_info": {
   "codemirror_mode": {
    "name": "ipython",
    "version": 3
   },
   "file_extension": ".py",
   "mimetype": "text/x-python",
   "name": "python",
   "nbconvert_exporter": "python",
   "pygments_lexer": "ipython3",
   "version": "3.7.6"
  }
 },
 "nbformat": 4,
 "nbformat_minor": 4
}
