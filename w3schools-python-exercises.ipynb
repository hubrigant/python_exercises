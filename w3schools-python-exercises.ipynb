{
 "cells": [
  {
   "cell_type": "markdown",
   "metadata": {},
   "source": [
    "# Question 1\n",
    "Write a Python program to print the following string in a specific format (see the output).\n",
    "Sample String : \"Twinkle, twinkle, little star, How I wonder what you are! Up above the world so high, Like a diamond in the sky. Twinkle, twinkle, little star, How I wonder what you are\" Output:\n",
    "\n",
    "Twinkle, twinkle, little star,\n",
    "\tHow I wonder what you are!\n",
    "\t\tUp above the world so high,\n",
    "\t\tLike a diamond in the sky.\n",
    "Twinkle, twinkle, little star,\n",
    "\tHow I wonder what you are"
   ]
  },
  {
   "cell_type": "markdown",
   "metadata": {},
   "source": [
    "## Answers\n",
    "## Method 1\n",
    "In this method, which I view as essentially cheating, the text is pre-formatted and returned verbatim for printing."
   ]
  },
  {
   "cell_type": "code",
   "execution_count": 18,
   "metadata": {},
   "outputs": [],
   "source": [
    "def q1m1(input_string: str):\n",
    "    return input_string"
   ]
  },
  {
   "cell_type": "code",
   "execution_count": 23,
   "metadata": {},
   "outputs": [
    {
     "name": "stdout",
     "output_type": "stream",
     "text": [
      "Twinkle, twinkle, little star,\n",
      "\tHow I wonder what you are!\n",
      "\t\tUp above the world so high,\n",
      "\t\tLike a diamond in the sky.\n",
      "Twinkle, twinkle, little star,\n",
      "\tHow I wonder what you are\n",
      "        \n"
     ]
    }
   ],
   "source": [
    "starting_string1 = \"\"\"Twinkle, twinkle, little star,\n",
    "\tHow I wonder what you are!\n",
    "\t\tUp above the world so high,\n",
    "\t\tLike a diamond in the sky.\n",
    "Twinkle, twinkle, little star,\n",
    "\tHow I wonder what you are\n",
    "        \"\"\"\n",
    "print(q1m1(correctAnswer))"
   ]
  },
  {
   "cell_type": "markdown",
   "metadata": {},
   "source": [
    "## Method 2\n",
    "This method is only *slightly* less cheaty than method 1. Instead of a single, preformatted string, the method is passed a list containing pre-formatted strings of each line."
   ]
  },
  {
   "cell_type": "code",
   "execution_count": 27,
   "metadata": {},
   "outputs": [],
   "source": [
    "def q1m2(input_list):\n",
    "    output_string: str = \"\"\n",
    "    for line in input_list:\n",
    "        output_string += line\n",
    "    return output_string"
   ]
  },
  {
   "cell_type": "code",
   "execution_count": 31,
   "metadata": {},
   "outputs": [
    {
     "name": "stdout",
     "output_type": "stream",
     "text": [
      "Twinkle, twinkle, little star,\n",
      "\tHow I wonder what you are!\n",
      "\t\tUp above the world so high,\n",
      "\t\tLike a diamond in the sky.\n",
      "Twinkle, twinkle, little star,\n",
      "\tHow I wonder what you are!\n",
      "\n"
     ]
    }
   ],
   "source": [
    "starting_list = (\n",
    "    \"Twinkle, twinkle, little star,\\n\",\n",
    "    \"\\tHow I wonder what you are!\\n\",\n",
    "    \"\\t\\tUp above the world so high,\\n\",\n",
    "    \"\\t\\tLike a diamond in the sky.\\n\",\n",
    "    \"Twinkle, twinkle, little star,\\n\",\n",
    "    \"\\tHow I wonder what you are!\\n\"\n",
    "    )\n",
    "\n",
    "print(q1m2(starting_list))"
   ]
  },
  {
   "cell_type": "markdown",
   "metadata": {},
   "source": [
    "## Method 3\n",
    "This method is passed a string again, but the lines are not pre-formatted. Instead, the q1m3() function determines how far to indent each line based on the initial character of the line's string."
   ]
  },
  {
   "cell_type": "code",
   "execution_count": 51,
   "metadata": {},
   "outputs": [],
   "source": [
    "def q1m3(input_list):\n",
    "    output_leader = \"\\t\"\n",
    "    output_string = str()\n",
    "    for line in input_list:\n",
    "        if line[0] is \"H\":\n",
    "            output_string += output_leader + line + \"\\n\"\n",
    "        elif line[0] is \"U\" or line[0] is \"L\":\n",
    "            output_string += output_leader * 2 + line + \"\\n\"\n",
    "        else:\n",
    "            output_string += line + \"\\n\"\n",
    "    return output_string"
   ]
  },
  {
   "cell_type": "code",
   "execution_count": 54,
   "metadata": {},
   "outputs": [
    {
     "ename": "NameError",
     "evalue": "name 'q1m3' is not defined",
     "output_type": "error",
     "traceback": [
      "\u001b[0;31m---------------------------------------------------------------------------\u001b[0m",
      "\u001b[0;31mNameError\u001b[0m                                 Traceback (most recent call last)",
      "\u001b[0;32m<ipython-input-54-4d0c287357b9>\u001b[0m in \u001b[0;36m<module>\u001b[0;34m\u001b[0m\n\u001b[1;32m      8\u001b[0m )\n\u001b[1;32m      9\u001b[0m \u001b[0;34m\u001b[0m\u001b[0m\n\u001b[0;32m---> 10\u001b[0;31m \u001b[0mprint\u001b[0m\u001b[0;34m(\u001b[0m\u001b[0mq1m3\u001b[0m\u001b[0;34m(\u001b[0m\u001b[0mstarting_list\u001b[0m\u001b[0;34m)\u001b[0m\u001b[0;34m)\u001b[0m\u001b[0;34m\u001b[0m\u001b[0;34m\u001b[0m\u001b[0m\n\u001b[0m",
      "\u001b[0;31mNameError\u001b[0m: name 'q1m3' is not defined"
     ]
    }
   ],
   "source": [
    "starting_list = (\n",
    "    \"Twinkle, twinkle, little star,\",\n",
    "    \"How I wonder what you are!\",\n",
    "    \"Up above the world so high,\",\n",
    "    \"Like a diamond in the sky.\",\n",
    "    \"Twinkle, twinkle, little star,\",\n",
    "    \"How I wonder what you are!\"\n",
    ")\n",
    "\n",
    "print(q1m3(starting_list))"
   ]
  },
  {
   "cell_type": "markdown",
   "metadata": {},
   "source": [
    "## Method 4\n",
    "This method actually answers the explicit text of the question. Given the stated input string, the method inserts newlines and tabs in the appropriate locations."
   ]
  },
  {
   "cell_type": "code",
   "execution_count": 67,
   "metadata": {},
   "outputs": [],
   "source": [
    "def q1m4(input_string: str):\n",
    "    input_list = input_string.split(\"\\s+\")\n",
    "    output_string = str(input_list)\n",
    "    return output_string"
   ]
  },
  {
   "cell_type": "code",
   "execution_count": 68,
   "metadata": {},
   "outputs": [
    {
     "name": "stdout",
     "output_type": "stream",
     "text": [
      "0: [\n",
      "1: '\n",
      "2: T\n",
      "3: w\n",
      "4: i\n",
      "5: n\n",
      "6: k\n",
      "7: l\n",
      "8: e\n",
      "9: ,\n",
      "10:  \n",
      "11: t\n",
      "3: w\n",
      "4: i\n",
      "5: n\n",
      "6: k\n",
      "7: l\n",
      "8: e\n",
      "9: ,\n",
      "10:  \n",
      "7: l\n",
      "4: i\n",
      "11: t\n",
      "11: t\n",
      "7: l\n",
      "8: e\n",
      "10:  \n",
      "27: s\n",
      "11: t\n",
      "29: a\n",
      "30: r\n",
      "9: ,\n",
      "10:  \n",
      "33: H\n",
      "34: o\n",
      "3: w\n",
      "10:  \n",
      "37: I\n",
      "10:  \n",
      "3: w\n",
      "34: o\n",
      "5: n\n",
      "42: d\n",
      "8: e\n",
      "30: r\n",
      "10:  \n",
      "3: w\n",
      "47: h\n",
      "29: a\n",
      "11: t\n",
      "10:  \n",
      "51: y\n",
      "34: o\n",
      "53: u\n",
      "10:  \n",
      "29: a\n",
      "30: r\n",
      "8: e\n",
      "58: !\n",
      "10:  \n",
      "60: U\n",
      "61: p\n",
      "10:  \n",
      "29: a\n",
      "64: b\n",
      "34: o\n",
      "66: v\n",
      "8: e\n",
      "10:  \n",
      "11: t\n",
      "47: h\n",
      "8: e\n",
      "10:  \n",
      "3: w\n",
      "34: o\n",
      "30: r\n",
      "7: l\n",
      "42: d\n",
      "10:  \n",
      "27: s\n",
      "34: o\n",
      "10:  \n",
      "47: h\n",
      "4: i\n",
      "84: g\n",
      "47: h\n",
      "9: ,\n",
      "10:  \n",
      "88: L\n",
      "4: i\n",
      "6: k\n",
      "8: e\n",
      "10:  \n",
      "29: a\n",
      "10:  \n",
      "42: d\n",
      "4: i\n",
      "29: a\n",
      "98: m\n",
      "34: o\n",
      "5: n\n",
      "42: d\n",
      "10:  \n",
      "4: i\n",
      "5: n\n",
      "10:  \n",
      "11: t\n",
      "47: h\n",
      "8: e\n",
      "10:  \n",
      "27: s\n",
      "6: k\n",
      "51: y\n",
      "113: .\n",
      "10:  \n",
      "2: T\n",
      "3: w\n",
      "4: i\n",
      "5: n\n",
      "6: k\n",
      "7: l\n",
      "8: e\n",
      "9: ,\n",
      "10:  \n",
      "11: t\n",
      "3: w\n",
      "4: i\n",
      "5: n\n",
      "6: k\n",
      "7: l\n",
      "8: e\n",
      "9: ,\n",
      "10:  \n",
      "7: l\n",
      "4: i\n",
      "11: t\n",
      "11: t\n",
      "7: l\n",
      "8: e\n",
      "10:  \n",
      "27: s\n",
      "11: t\n",
      "29: a\n",
      "30: r\n",
      "9: ,\n",
      "10:  \n",
      "33: H\n",
      "34: o\n",
      "3: w\n",
      "10:  \n",
      "37: I\n",
      "10:  \n",
      "3: w\n",
      "34: o\n",
      "5: n\n",
      "42: d\n",
      "8: e\n",
      "30: r\n",
      "10:  \n",
      "3: w\n",
      "47: h\n",
      "29: a\n",
      "11: t\n",
      "10:  \n",
      "51: y\n",
      "34: o\n",
      "53: u\n",
      "10:  \n",
      "29: a\n",
      "30: r\n",
      "8: e\n",
      "1: '\n",
      "172: ]\n"
     ]
    }
   ],
   "source": [
    "starting_string = \"Twinkle, twinkle, little star, How I wonder what you are! Up above the world so high, Like a diamond in the sky. Twinkle, twinkle, little star, How I wonder what you are\"\n",
    "resulting_list = q1m4(starting_string)\n",
    "\n",
    "for word in resulting_list:\n",
    "    print(\"{}: {}\".format(resulting_list.index(word), word))"
   ]
  },
  {
   "cell_type": "code",
   "execution_count": null,
   "metadata": {},
   "outputs": [],
   "source": []
  }
 ],
 "metadata": {
  "kernelspec": {
   "display_name": "Python 3",
   "language": "python",
   "name": "python3"
  },
  "language_info": {
   "codemirror_mode": {
    "name": "ipython",
    "version": 3
   },
   "file_extension": ".py",
   "mimetype": "text/x-python",
   "name": "python",
   "nbconvert_exporter": "python",
   "pygments_lexer": "ipython3",
   "version": "3.7.6"
  }
 },
 "nbformat": 4,
 "nbformat_minor": 4
}
